{
 "cells": [
  {
   "cell_type": "code",
   "execution_count": null,
   "id": "3541923d",
   "metadata": {},
   "outputs": [],
   "source": []
  },
  {
   "cell_type": "markdown",
   "id": "db3d286b",
   "metadata": {},
   "source": [
    "# Passing Data from the Server side to the front"
   ]
  },
  {
   "cell_type": "markdown",
   "id": "6f887ad1",
   "metadata": {},
   "source": [
    "## In this section, we're going to get data from the server side, and pass it to the client side\n",
    "    - Fetch data from the Controller in the server side and display the information on a razor page in the client side."
   ]
  },
  {
   "cell_type": "markdown",
   "id": "97996be6",
   "metadata": {},
   "source": [
    "### Lets begin by creating a new Blazor project\n",
    "1. Create a new Blazor WebAssembly project.\n",
    "2. Create a name for project and select a location on your local machine.\n",
    "3. In the next screen, ensure 'Configure for Https' and 'ASP.NET Core hosted' is checked.\n",
    "    - 'ASP.NET Core hosted' = a Blazor server project and a Class Library will be included with the WebAssembly project"
   ]
  },
  {
   "cell_type": "markdown",
   "id": "96889fe6",
   "metadata": {},
   "source": [
    "#### Create a Model\n",
    "*We create a model so we have something to bind our input data to.*\n",
    "\n",
    "1. Right-click on the _Shared_ project and add a class.\n",
    "2. Let's call it *User* and give it three properties\n",
    "    - Id        - int\n",
    "    - FirstName - string\n",
    "    - LastName  - string\n",
    "\n",
    "#### User.cs"
   ]
  },
  {
   "cell_type": "code",
   "execution_count": null,
   "id": "6d8919b4",
   "metadata": {},
   "outputs": [],
   "source": [
    "public class User\n",
    "{\n",
    "    public int Id { get; set; }\n",
    "\n",
    "    public string FirstName { get; set; }\n",
    "\n",
    "    public string LastName { get; set; }\n",
    "\n",
    "}"
   ]
  },
  {
   "cell_type": "markdown",
   "id": "b6c0651d",
   "metadata": {},
   "source": [
    "#### Create a Controller\n",
    "*We need to create a controller which will hold our data and also act as a link between the server side and the client side*\n",
    "\n",
    "1. Right-click on the *Controllers* folder in the _Server_ project and add a Controller.\n",
    "2. Make sure \"MVC Controller-Empty\" is selected and then click the *Add* button.\n",
    "3. Name it *UserController* and then select the \"API Controller-Empty\" option in the list of item types. Click *Add*.\n",
    "\n",
    "You should then be presented with something like this in the namespace:\n"
   ]
  },
  {
   "cell_type": "code",
   "execution_count": null,
   "id": "2e012c1a",
   "metadata": {},
   "outputs": [],
   "source": [
    "[Route(\"api/[controller]\")]\n",
    "[ApiController]\n",
    "public class UserController : ControllerBase\n",
    "{\n",
    "}"
   ]
  },
  {
   "cell_type": "markdown",
   "id": "99b27abf",
   "metadata": {},
   "source": [
    "#### Add a list of users\n",
    "Inside the UserContoller class, add a List of Users, which will act as the data that is stored."
   ]
  },
  {
   "cell_type": "code",
   "execution_count": null,
   "id": "2834a87c",
   "metadata": {},
   "outputs": [],
   "source": [
    "public List<User> Users { get; set; } = new List<User>\n",
    "{\n",
    "    new User\n",
    "    {\n",
    "        Id = 1,\n",
    "        FirstName = \"Lucy\",\n",
    "        LastName = \"Thompson\"\n",
    "    },\n",
    "    new User\n",
    "    {\n",
    "        Id = 2,\n",
    "        FirstName = \"Keorapetse\",\n",
    "        LastName = \"Kgositsile\"\n",
    "    },\n",
    "    new User\n",
    "    {\n",
    "        Id = 3,\n",
    "        FirstName = \"Achmat\",\n",
    "        LastName = \"Dangor\"\n",
    "    }\n",
    "};"
   ]
  },
  {
   "cell_type": "markdown",
   "id": "dbad5563",
   "metadata": {},
   "source": [
    "#### Add a GetUsers action method\n",
    "Undeneath the list that was just created. Add the following action method which will be called to return the list of Users. This method will have the HttpGet attribute which indicates the type of request method.\n"
   ]
  },
  {
   "cell_type": "code",
   "execution_count": null,
   "id": "295b46ef",
   "metadata": {},
   "outputs": [],
   "source": [
    "[HttpGet]\n",
    "public async Task<List<User>> GetUsers()\n",
    "{\n",
    "    return Users;\n",
    "}"
   ]
  },
  {
   "cell_type": "markdown",
   "id": "6b49a205",
   "metadata": {},
   "source": [
    "#### Use a Razor page\n",
    "We need to provide an interface for the user to interact with. This same interface will call a method which will show us our data/list of Users. There is no need to create a new page for this.\n",
    "\n",
    "1. Click on the *index.razor* page in the *Pages* folder that is within the *Client* project.\n",
    "2. Remove everything inside and replace it with the following code below.\n",
    "4. Add the needed HTML and C# code. No styling needed\n",
    "\n",
    "#### index.razor\n"
   ]
  },
  {
   "cell_type": "code",
   "execution_count": null,
   "id": "4fb8ca27",
   "metadata": {},
   "outputs": [],
   "source": [
    "@page \"/\"\n",
    "@inject HttpClient httpClient\n",
    "\n",
    "<h1>Hello, world!</h1>\n",
    "\n",
    "\n",
    "@foreach (var user in Users)\n",
    "{\n",
    "    <div>\n",
    "        <span>@user.Id | </span> <span>@user.FirstName | </span> <span>@user.LastName | </span>\n",
    "    </div>\n",
    "}\n",
    "\n",
    "@code{\n",
    "    List<User> Users = new List<User>();\n",
    "\n",
    "    protected override async Task OnInitializedAsync()\n",
    "    {\n",
    "        Users = await httpClient.GetFromJsonAsync<List<User>>(\"api/user\");\n",
    "    }\n",
    "}"
   ]
  },
  {
   "cell_type": "markdown",
   "id": "042314b1",
   "metadata": {},
   "source": [
    "### Important to note\n",
    "In order to use the Users model created in the _Shared_ project accross the other two projects. You need to ensure that the correct dependencies are added to the respective projects.\n",
    "   - To add **dependencies**\n",
    "       - right click on Dependencies under the *Client* or *Server* project.\n",
    "       - Click Add Project Reference...\n",
    "       - Ensure that the *Shared* project is the only one that is checked.\n",
    "    \n",
    "   - To add the **using directive** in the Controller (Server)\n",
    "       - Ensure you are in the UserController in the *Server project*\n",
    "       - Add the line below directly underneath the other using directives.\n",
    "       \n",
    "#### UserContrller.cs\n"
   ]
  },
  {
   "cell_type": "code",
   "execution_count": null,
   "id": "0a640480",
   "metadata": {},
   "outputs": [],
   "source": [
    "... //other using directives\n",
    "\n",
    "using {ProjectName}.Shared"
   ]
  },
  {
   "cell_type": "markdown",
   "id": "509c6e02",
   "metadata": {},
   "source": [
    "   - To add the **using directive** in the \\_imports razor component (Client)\n",
    "       - Go to the _\\_Imports.razor_ page in the _Clients_ project\n",
    "       - Add the following line at the bottom and save      \n",
    "\n",
    "1. Go to the *\\_Imports.razor* page in the *Clients* project\n",
    "2. Add the following line at the bottom and save\n",
    "\n",
    "#### \\_Imports.razor"
   ]
  },
  {
   "cell_type": "code",
   "execution_count": null,
   "id": "85ac0209",
   "metadata": {},
   "outputs": [],
   "source": [
    "... //other using directives\n",
    "\n",
    "@using {ProjectName}.Shared"
   ]
  },
  {
   "cell_type": "markdown",
   "id": "ecd3c671",
   "metadata": {},
   "source": [
    "Run the program and you should get a page displaying the data that we had written in the Controller class."
   ]
  }
 ],
 "metadata": {
  "kernelspec": {
   "display_name": ".NET (C#)",
   "language": "C#",
   "name": ".net-csharp"
  },
  "language_info": {
   "file_extension": ".cs",
   "mimetype": "text/x-csharp",
   "name": "C#",
   "pygments_lexer": "csharp",
   "version": "8.0"
  }
 },
 "nbformat": 4,
 "nbformat_minor": 5
}
